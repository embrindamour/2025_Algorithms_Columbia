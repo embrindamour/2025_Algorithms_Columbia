{
 "cells": [
  {
   "cell_type": "markdown",
   "metadata": {},
   "source": [
    "# Connected Components\n",
    "\n",
    "The purpose of this assignment is to familiarize yourself with the handling of graph data structures. You will implement depth-first search for identifying the connected components of an undirected graph, implementing procedure Search as a subroutine along the way.\n",
    "\n",
    "You will use the [NetworkX](https://networkx.github.io/) Python package to represent and manipulate graphs. You should first familiarize yourself with its functionality by going through the brief [tutorial](https://networkx.org/documentation/stable/tutorial.html). For this homework, you may only use the basic undirected graph methods listed [here](https://networkx.org/documentation/stable/reference/classes/graph.html).\n",
    "\n",
    "As a use case, we will work with a dataset recording the interactions between characters in Homer's *Iliad*."
   ]
  },
  {
   "cell_type": "code",
   "execution_count": 4,
   "metadata": {},
   "outputs": [],
   "source": [
    "import networkx\n",
    "homer = open('homer.dat')"
   ]
  },
  {
   "cell_type": "markdown",
   "metadata": {},
   "source": [
    "The format of the data is straightforward. After some comment lines (beginning with \\*), the file lists a codename for each character (i.e., node of the graph), followed by a description. The file then lists the groups of characters that interact in each chapter, from which you will form the edges. For instance, the first line has the form:\n",
    "\n",
    "```1:CH,AG,ME,GS;AP,CH;HE,AC;AC,AG,CA;HE,AT;AT,AC;AT,OG;NE,AG,AC;CS,OD```\n",
    "\n",
    "This means that CH,AG,ME,GS interacted, so there are edges for all pairs of these nodes. Groups of characters that interacted are separated by semicolons. The lines start with chapter information of the form `1:` or `&:`, which can be ignored for this problem."
   ]
  },
  {
   "cell_type": "markdown",
   "metadata": {},
   "source": [
    "First implement a function to read in the nodes from the input file. You may implement any auxiliary functions as needed, and are encouraged to use small functions with specific purposes to keep your code readable. Any function you implement should be clearly commented."
   ]
  },
  {
   "cell_type": "markdown",
   "metadata": {},
   "source": [
    "Next implement a function to read in the edges from the input file."
   ]
  },
  {
   "cell_type": "code",
   "execution_count": 5,
   "metadata": {},
   "outputs": [],
   "source": [
    "def read_nodes(gfile):\n",
    "    \"\"\"Reads in the nodes of the graph from the input file.\n",
    "    \n",
    "    Args:\n",
    "        gfile: A handle for the file containing the graph data, starting at the top.\n",
    "        \n",
    "    Returns:\n",
    "        A list of the nodes in the graph of the form:\n",
    "            ['CH', 'AG, 'ME', ...]\n",
    "    \"\"\"\n",
    "    # TODO: implement function\n",
    "    # Initialize empty list of nodes\n",
    "    nodes = []\n",
    "\n",
    "    for line in gfile:\n",
    "\n",
    "        # get rid of white space on either side (extra check if formatting inconsistent)\n",
    "        line = line.strip()\n",
    "\n",
    "        # Skip empty lines or comment lines that start with * but don't stop\n",
    "        if not line or line.startswith('*'):\n",
    "            continue\n",
    "            \n",
    "        # Ignore lines/stop when a line is hit that starts with 1: or &:\n",
    "        if (line[0].isdigit() or line[0] == '&') and ':' in line:\n",
    "            # edge information begins\n",
    "            break\n",
    "\n",
    "        # split the line into substrings separated by white space\n",
    "        words = line.split()\n",
    "        #print(\"words:\", words)\n",
    "        \n",
    "        if words:\n",
    "\n",
    "            #since we used strip, the first substring is guaranteed to be the character code after the above checks\n",
    "            character_code = words[0]\n",
    "            #print(\"character code:\", character_code)\n",
    "            \n",
    "            nodes.append(character_code)\n",
    "            \n",
    "    return nodes"
   ]
  },
  {
   "cell_type": "code",
   "execution_count": 6,
   "metadata": {},
   "outputs": [],
   "source": [
    "def read_edges(gfile):\n",
    "    \"\"\"Reads in the edges of the graph from the input file.\n",
    "    \n",
    "    Args:\n",
    "        gfile: A handle for the file containing the graph data, starting at the top \n",
    "            of the edges section.\n",
    "            \n",
    "    Returns:\n",
    "        The edges in the graph as a list of pairs of the form:\n",
    "            [('CH', 'AG'), ('AG', 'ME'), ...]\n",
    "    \"\"\"\n",
    "    # TODO: implement function\n",
    "    \n",
    "    # define empty list of edges\n",
    "    edges = []\n",
    "    # initialize pointer to 0!!!\n",
    "    gfile.seek(0)\n",
    "\n",
    "    for line in gfile:\n",
    "        # getting rid of white space\n",
    "        line = line.strip()\n",
    "\n",
    "        # Skip empty lines or comment lines that start with *\n",
    "        if not line or line.startswith('*'):\n",
    "            continue\n",
    "\n",
    "        if line[0].isdigit() or line[0] == '&':\n",
    "            if ':' in line:\n",
    "                \n",
    "                # Extract everything after the 1: or &:\n",
    "                interactions_0 = line.split(':',1)\n",
    "                interactions = interactions_0[1]\n",
    "                \n",
    "                # split the interactions line into strings for each group\n",
    "                groups = interactions.split(';')\n",
    "    \n",
    "                for group in groups:\n",
    "    \n",
    "                    # create a list where each element is a character code from within that group\n",
    "                    character_codes = [c.strip() for c in group.split(',')]\n",
    "                    \n",
    "                    for i in range(len(character_codes)):\n",
    "                        \n",
    "                        # for each character in that group\n",
    "                        for j in range(i+1, len(character_codes)):\n",
    "                            \n",
    "                            # for each remaining character, draw an edge from character i to that character\n",
    "                            edges.append((character_codes[i],character_codes[j]))\n",
    "\n",
    "                # this works because networkx handles duplicates automatically, G is undirected in this case\n",
    "    \n",
    "    return edges"
   ]
  },
  {
   "cell_type": "markdown",
   "metadata": {},
   "source": [
    "The following code should now correctly create the graph."
   ]
  },
  {
   "cell_type": "code",
   "execution_count": 7,
   "metadata": {},
   "outputs": [],
   "source": [
    "import networkx as nx\n",
    "G = nx.Graph()\n",
    "G.add_nodes_from(read_nodes(homer))\n",
    "G.add_edges_from(read_edges(homer))"
   ]
  },
  {
   "cell_type": "markdown",
   "metadata": {},
   "source": [
    "Next implement procedure Search. The function takes in a graph and a root node, and returns a list of the nodes visited during the search. The nodes should appear in the order in which they were *first visited*. The neighbors of a node should be processed in *alphabetical order*, where numbers come before letters. This will ensure that the output of your function is uniquely defined, given any input node."
   ]
  },
  {
   "cell_type": "code",
   "execution_count": 8,
   "metadata": {},
   "outputs": [],
   "source": [
    "def Search(graph, root):\n",
    "    \"\"\"Runs Search from vertex root in a graph. Neighboring nodes are processed in alphabetical order.\n",
    "    \n",
    "    Args:\n",
    "        graph: the given graph, with nodes encoded as strings.\n",
    "        root: the node from which to start the search.\n",
    "        \n",
    "    Returns:\n",
    "        A list of nodes in the order in which they were first visited.\n",
    "    \"\"\"\n",
    "    # TODO: implement function\n",
    "    \n",
    "    # Intuition: we know Search(u) explores the entire connected component starting from a node u\n",
    "    # Process: we start at node u, mark it as visited, recursivelt explore all unvisited neighbors, then backtrack\n",
    "\n",
    "    # Define empty containers for information storage\n",
    "    visited_order = [] # list storing nodes in the order in which they were discovered (order of start(node))\n",
    "    explored = {} # dictionary tracking nodes already explored, explored[u] = 0 initially \n",
    "\n",
    "    def search_recursive(u):\n",
    "        \n",
    "        # previsit(u)\n",
    "        \n",
    "        explored[u] = 1 # mark node as visited by adding to explored dictionary, to prevent re-visit\n",
    "        visited_order.append(u) # record the node in visit order\n",
    "\n",
    "        # get all neigjbors of node first and sort them alphabetically\n",
    "        neighbors = sorted(graph.neighbors(u))\n",
    "        \n",
    "        # for each neighbor v of u, \n",
    "        for v in neighbors:\n",
    "\n",
    "            # if v unexplored, then search(v) (search neighbors of v)\n",
    "            if explored.get(v, 0) == 0: # since explored is a dictionary, dict.get(v,0) will return 0 if v is not in explored, 1 otherwise\n",
    "                search_recursive(v)\n",
    "        \n",
    "        # postvisit(u)\n",
    "                \n",
    "    # start at the root now\n",
    "    search_recursive(root)\n",
    "    \n",
    "    return visited_order"
   ]
  },
  {
   "cell_type": "markdown",
   "metadata": {},
   "source": [
    "We will check the correctness of your code by verifying that it correctly computes the connected component of node Ulysses (node `OD`)."
   ]
  },
  {
   "cell_type": "code",
   "execution_count": 9,
   "metadata": {},
   "outputs": [],
   "source": [
    "ulysses = Search(G, 'OD')"
   ]
  },
  {
   "cell_type": "markdown",
   "metadata": {},
   "source": [
    "Next implement DFS to find the connected components of the character graph. When choosing roots for your components, always pick the *smallest unvisited node* according to alphabetical ordering. Combined with your Search routine, this will ensure that the output is again uniquely defined."
   ]
  },
  {
   "cell_type": "code",
   "execution_count": 10,
   "metadata": {},
   "outputs": [],
   "source": [
    "def connected_components(graph):\n",
    "    \"\"\"Computes the connected components of the given graph.\n",
    "    \n",
    "    Args: \n",
    "        graph: the given graph, with nodes encoded as strings.\n",
    "        \n",
    "    Returns:\n",
    "        The connected components of the graph. Components are listed in\n",
    "        alphabetical order of their root nodes.\n",
    "    \"\"\"\n",
    "    # TODO: implement function\n",
    "    \n",
    "    # Intuition: we know DFS G explores the entire connected component starting from a node u\n",
    "    # Process: Try the first edge out of s, towards some node v; Continue from v until you reach a a node whose neighbors have all been explored;\n",
    "    # Then backtrack to the first node with an unexplored neighbor and repeat second step\n",
    "    \n",
    "    # define empty list to store components\n",
    "    all_components = []\n",
    "\n",
    "    # define empty dictionary to indicate explored or not\n",
    "    explored = {} # this is o(1), so we use it instead of a list which takes o(n) time to parse through just to check a binary indicator\n",
    "\n",
    "    # initialize explored status to 0 for all nodes in the graph\n",
    "    for u in graph.nodes():\n",
    "        explored[u] = 0\n",
    "\n",
    "    # for all nodes in graph\n",
    "    for u in sorted(graph.nodes()): #sort alphabetically, ensures we pick the smallest unvisited node\n",
    "\n",
    "        # check explored status\n",
    "        if explored[u] == 0:\n",
    "\n",
    "            # search graph with unexplored node as the root, AKA explore neighbors from u\n",
    "            component = Search(graph, u)\n",
    "\n",
    "            # mark every node in that component as discovered\n",
    "            for node in component:\n",
    "                explored[node] = 1\n",
    "\n",
    "            # that component has been explored completely, so we can append it the ordered list of components to the all_components container\n",
    "            all_components.append(component)\n",
    "            \n",
    "    return all_components # a list of component-wise ordered discovery lists"
   ]
  },
  {
   "cell_type": "markdown",
   "metadata": {},
   "source": [
    "We will check correctness of your code by verifying that your output is identical to our solution."
   ]
  },
  {
   "cell_type": "code",
   "execution_count": 11,
   "metadata": {},
   "outputs": [],
   "source": [
    "character_interactions = connected_components(G)"
   ]
  },
  {
   "cell_type": "markdown",
   "metadata": {},
   "source": [
    "As a preliminary check, you should find that the following statements are all true."
   ]
  },
  {
   "cell_type": "code",
   "execution_count": 12,
   "metadata": {},
   "outputs": [
    {
     "name": "stdout",
     "output_type": "stream",
     "text": [
      "There are 12 connected components in the Iliad:True\n",
      "The giant component has size 542:True\n",
      "There are 5 isolated characters:True\n"
     ]
    }
   ],
   "source": [
    "component_sizes = [len(c) for c in character_interactions]\n",
    "print(\"There are 12 connected components in the Iliad:{}\".format(len(component_sizes) == 12))\n",
    "print(\"The giant component has size 542:{}\".format(max(component_sizes) == 542))\n",
    "print(\"There are 5 isolated characters:{}\".format(len([c for c in component_sizes if c == 1]) == 5))"
   ]
  }
 ],
 "metadata": {
  "kernelspec": {
   "display_name": "Python 3 (ipykernel)",
   "language": "python",
   "name": "python3"
  },
  "language_info": {
   "codemirror_mode": {
    "name": "ipython",
    "version": 3
   },
   "file_extension": ".py",
   "mimetype": "text/x-python",
   "name": "python",
   "nbconvert_exporter": "python",
   "pygments_lexer": "ipython3",
   "version": "3.11.7"
  }
 },
 "nbformat": 4,
 "nbformat_minor": 4
}
